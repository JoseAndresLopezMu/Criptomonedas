{
 "cells": [
  {
   "cell_type": "markdown",
   "metadata": {},
   "source": [
    "## ETL PRACTICA - JOSÉ ANDRÉS"
   ]
  },
  {
   "cell_type": "markdown",
   "metadata": {},
   "source": [
    "### En está práctica se trata la adquisición y recogida en un CSV de los valores que tienen en este momento las criptomonedas, la utilización de Beautiful Soup, una biblioteca de Python para analizar documentos HTML y el paquete de python pandas, que proporciona estructuras de datos similares a los dataframes de R. \n",
    "\n",
    "### Además se busca solucionar un problema que puede darse al utilizar dicha biblioteca cuando se produce el error 403 un código de estado HTTP que indica que el servidor se denega a permitir la acción solicitada."
   ]
  },
  {
   "cell_type": "markdown",
   "metadata": {},
   "source": [
    "## Criptomoneda"
   ]
  },
  {
   "cell_type": "markdown",
   "metadata": {},
   "source": [
    "La criptomoneda, también llamada moneda virtual o criptodivisa, es dinero digital. Eso significa que no hay monedas ni billetes físicos — todo es en línea. Usted puede transferirle una criptomoneda a alguien en internet sin un intermediario, como un banco. Las criptomonedas más conocidas son Bitcoin y Ether, pero se continúan creando nuevas cripto-monedas.\n",
    "\n",
    "La gente podría usar criptomonedas para hacer pagos rápidos y para evitar los cargos de transacción. Algunas personas podrían adquirir criptomonedas como una inversión, con la esperanza de que aumente su valor. Las criptomonedas se pueden comprar con una tarjeta de crédito o, en algunos casos, a través de un proceso llamado “minería”. Las criptomonedas se almacenan en un monedero o cartera digital, ya sea en línea, en su computadora o en otro soporte físico.\n",
    "\n",
    "Antes de comprar una criptomoneda, tiene que saber que no tiene las mismas protecciones que cuando usa dólares estadounidenses. También tiene que saber que los estafadores le están pidiendo a la gente que le paguen con una criptomoneda porque saben que, por lo general, esos pagos son irreversibles."
   ]
  },
  {
   "cell_type": "markdown",
   "metadata": {},
   "source": [
    "## Instalación Librerías"
   ]
  },
  {
   "cell_type": "code",
   "execution_count": 1,
   "metadata": {},
   "outputs": [],
   "source": [
    "import requests\n",
    "from bs4 import BeautifulSoup\n",
    "import pandas as pd"
   ]
  },
  {
   "cell_type": "markdown",
   "metadata": {},
   "source": [
    "## Contacto al servidor con la petición get"
   ]
  },
  {
   "cell_type": "markdown",
   "metadata": {},
   "source": [
    "Se prueba la petición y aparecer el error 403 que significa que la petición es correcta pero el servidor se niega a ofrecerte el recurso o página web. La librería requests nos permite enviar solicitudes HTTP con Python"
   ]
  },
  {
   "cell_type": "code",
   "execution_count": 2,
   "metadata": {},
   "outputs": [
    {
     "name": "stdout",
     "output_type": "stream",
     "text": [
      "<Response [403]>\n"
     ]
    }
   ],
   "source": [
    "paginaScrap = \"http://investing.com\"\n",
    "\n",
    "page = requests.get(paginaScrap)\n",
    "print(page)"
   ]
  },
  {
   "cell_type": "markdown",
   "metadata": {},
   "source": [
    "Como nos sale el error 403 podemos realizar una forma para \"trucar\" y conseguir que nos deje entrar en la página. Para ello debemos entrar en la parte de red en herramientas de desarrollo e introducir los siguientes datos:"
   ]
  },
  {
   "cell_type": "code",
   "execution_count": 3,
   "metadata": {},
   "outputs": [
    {
     "name": "stdout",
     "output_type": "stream",
     "text": [
      "<Response [200]>\n"
     ]
    }
   ],
   "source": [
    "Url = \"http://investing.com\"\n",
    "\n",
    "headers = {'User-Agent': 'Mozilla/5.0 (Macintosh; Intel Mac OS X 10_11_5) AppleWebKit/537.36 (KHTML, like Gecko) Chrome/50.0.2661.102 Safari/537.36'}\n",
    "page = requests.get(Url, headers=headers)\n",
    "\n",
    "print(page)"
   ]
  },
  {
   "cell_type": "markdown",
   "metadata": {},
   "source": [
    "### Se obtiene el Título de la Página:"
   ]
  },
  {
   "cell_type": "code",
   "execution_count": 4,
   "metadata": {},
   "outputs": [
    {
     "data": {
      "text/plain": [
       "'Investing.com - Stock Market Quotes & Financial News'"
      ]
     },
     "execution_count": 4,
     "metadata": {},
     "output_type": "execute_result"
    }
   ],
   "source": [
    "soup = BeautifulSoup(page.text, \"html.parser\")\n",
    "soup.title.string"
   ]
  },
  {
   "cell_type": "markdown",
   "metadata": {},
   "source": [
    "### Se obtiene el valor de la criptomoneda por excelencia en este mercado: "
   ]
  },
  {
   "cell_type": "code",
   "execution_count": 5,
   "metadata": {},
   "outputs": [
    {
     "name": "stdout",
     "output_type": "stream",
     "text": [
      "------------------\n",
      "Valor en Bitcoin (USD): 52,465.5\n",
      "------------------\n"
     ]
    }
   ],
   "source": [
    "tabla_Crypto = soup.find(class_='genTbl js-all-crypto-preview-table wideTbl elpTbl elp20 topCryptoHP')\n",
    "tr_all = tabla_Crypto.find_all('tr',{'i': '1057391'})\n",
    "\n",
    "Precio = tr_all[0].find_all('td',{'class':'price js-currency-price'})\n",
    "\n",
    "print(\"------------------\")\n",
    "print(\"Valor en Bitcoin (USD): {0}\".format(Precio[0].get_text()))\n",
    "print(\"------------------\")"
   ]
  },
  {
   "cell_type": "markdown",
   "metadata": {},
   "source": [
    "### Se obtienen los valores de las diferentes criptomonedas más representativas en la actualidad: "
   ]
  },
  {
   "cell_type": "code",
   "execution_count": 6,
   "metadata": {},
   "outputs": [
    {
     "name": "stdout",
     "output_type": "stream",
     "text": [
      "------------------\n",
      "Valor en Bitcoin (USD): 52,465.5\n",
      "------------------\n",
      "Valor en Ethereum (USD): 1,922.33\n",
      "------------------\n",
      "Valor en Binance Coin (USD): 273.5819\n",
      "------------------\n",
      "Valor en Tether (USD): 1.0007\n",
      "------------------\n",
      "Valor en Polkadot (USD): 33.5199\n"
     ]
    }
   ],
   "source": [
    "tabla_Crypto = soup.find(class_='genTbl js-all-crypto-preview-table wideTbl elpTbl elp20 topCryptoHP')\n",
    "\n",
    "tr_all = tabla_Crypto.find_all('tr')\n",
    "\n",
    "for sub_tr in tr_all: \n",
    "    Precio = sub_tr.find_all('td',{'class':'price js-currency-price'})\n",
    "    Nombre = sub_tr.find_all('td',{'class':'left bold elp name cryptoName first js-currency-name'})\n",
    "    \n",
    "    if(Nombre!=[]):\n",
    "        print(\"------------------\")\n",
    "        print('Valor en {0} (USD): {1}'.format(Nombre[0].get_text(),Precio[0].get_text()))"
   ]
  },
  {
   "cell_type": "markdown",
   "metadata": {},
   "source": [
    "### Se crea un DataFrame para visualizarlo mejor y se exporta en un CSV para trabajar y recoger dichos valores en un periodo de tiempo."
   ]
  },
  {
   "cell_type": "code",
   "execution_count": 7,
   "metadata": {},
   "outputs": [
    {
     "name": "stdout",
     "output_type": "stream",
     "text": [
      "[['Bitcoin', '52465.5'], ['Ethereum', '1922.33'], ['Binance Coin', '273.5819'], ['Tether', '1.0007'], ['Polkadot', '33.5199']]\n"
     ]
    }
   ],
   "source": [
    "tabla_Crypto = soup.find(class_='genTbl js-all-crypto-preview-table wideTbl elpTbl elp20 topCryptoHP')\n",
    "tr_all = tabla_Crypto.find_all('tr')\n",
    "\n",
    "ListaSave=[]\n",
    "for sub_tr in tr_all: \n",
    "    Precio = sub_tr.find_all('td',{'class':'price js-currency-price'})\n",
    "    Nombre = sub_tr.find_all('td',{'class':'left bold elp name cryptoName first js-currency-name'})\n",
    "    if(Nombre!=[]):\n",
    "        ListaSave.append([Nombre[0].get_text(),Precio[0].get_text().replace(\",\", \"\")])\n",
    "        \n",
    "print(ListaSave)"
   ]
  },
  {
   "cell_type": "code",
   "execution_count": 8,
   "metadata": {},
   "outputs": [
    {
     "data": {
      "text/html": [
       "<div>\n",
       "<style scoped>\n",
       "    .dataframe tbody tr th:only-of-type {\n",
       "        vertical-align: middle;\n",
       "    }\n",
       "\n",
       "    .dataframe tbody tr th {\n",
       "        vertical-align: top;\n",
       "    }\n",
       "\n",
       "    .dataframe thead th {\n",
       "        text-align: right;\n",
       "    }\n",
       "</style>\n",
       "<table border=\"1\" class=\"dataframe\">\n",
       "  <thead>\n",
       "    <tr style=\"text-align: right;\">\n",
       "      <th></th>\n",
       "      <th>Criptomoneda</th>\n",
       "      <th>Precio</th>\n",
       "    </tr>\n",
       "  </thead>\n",
       "  <tbody>\n",
       "    <tr>\n",
       "      <th>0</th>\n",
       "      <td>Bitcoin</td>\n",
       "      <td>52465.5</td>\n",
       "    </tr>\n",
       "    <tr>\n",
       "      <th>1</th>\n",
       "      <td>Ethereum</td>\n",
       "      <td>1922.33</td>\n",
       "    </tr>\n",
       "    <tr>\n",
       "      <th>2</th>\n",
       "      <td>Binance Coin</td>\n",
       "      <td>273.5819</td>\n",
       "    </tr>\n",
       "    <tr>\n",
       "      <th>3</th>\n",
       "      <td>Tether</td>\n",
       "      <td>1.0007</td>\n",
       "    </tr>\n",
       "    <tr>\n",
       "      <th>4</th>\n",
       "      <td>Polkadot</td>\n",
       "      <td>33.5199</td>\n",
       "    </tr>\n",
       "  </tbody>\n",
       "</table>\n",
       "</div>"
      ],
      "text/plain": [
       "   Criptomoneda    Precio\n",
       "0       Bitcoin   52465.5\n",
       "1      Ethereum   1922.33\n",
       "2  Binance Coin  273.5819\n",
       "3        Tether    1.0007\n",
       "4      Polkadot   33.5199"
      ]
     },
     "execution_count": 8,
     "metadata": {},
     "output_type": "execute_result"
    }
   ],
   "source": [
    "import pandas as pd\n",
    "\n",
    "df = pd.DataFrame(ListaSave, columns= ['Criptomoneda', 'Precio'])\n",
    "\n",
    "df.sort_values(by='Precio', ascending=True)\n",
    "\n",
    "df"
   ]
  },
  {
   "cell_type": "markdown",
   "metadata": {},
   "source": [
    "Como los valores del precio de cada moneda se han introducido como tipo string se tienen que pasar a un tipo float para que se pueda ordenar de mayor a menor atendiendo al valor que tienen en este momento en el mercado."
   ]
  },
  {
   "cell_type": "code",
   "execution_count": 9,
   "metadata": {},
   "outputs": [],
   "source": [
    "df['Precio'] = df['Precio'].astype(float)"
   ]
  },
  {
   "cell_type": "code",
   "execution_count": 10,
   "metadata": {},
   "outputs": [],
   "source": [
    "df = df.sort_values(by='Precio', ascending=False)\n"
   ]
  },
  {
   "cell_type": "code",
   "execution_count": 11,
   "metadata": {},
   "outputs": [
    {
     "data": {
      "text/html": [
       "<div>\n",
       "<style scoped>\n",
       "    .dataframe tbody tr th:only-of-type {\n",
       "        vertical-align: middle;\n",
       "    }\n",
       "\n",
       "    .dataframe tbody tr th {\n",
       "        vertical-align: top;\n",
       "    }\n",
       "\n",
       "    .dataframe thead th {\n",
       "        text-align: right;\n",
       "    }\n",
       "</style>\n",
       "<table border=\"1\" class=\"dataframe\">\n",
       "  <thead>\n",
       "    <tr style=\"text-align: right;\">\n",
       "      <th></th>\n",
       "      <th>Criptomoneda</th>\n",
       "      <th>Precio</th>\n",
       "    </tr>\n",
       "  </thead>\n",
       "  <tbody>\n",
       "    <tr>\n",
       "      <th>0</th>\n",
       "      <td>Bitcoin</td>\n",
       "      <td>52465.5000</td>\n",
       "    </tr>\n",
       "    <tr>\n",
       "      <th>1</th>\n",
       "      <td>Ethereum</td>\n",
       "      <td>1922.3300</td>\n",
       "    </tr>\n",
       "    <tr>\n",
       "      <th>2</th>\n",
       "      <td>Binance Coin</td>\n",
       "      <td>273.5819</td>\n",
       "    </tr>\n",
       "    <tr>\n",
       "      <th>4</th>\n",
       "      <td>Polkadot</td>\n",
       "      <td>33.5199</td>\n",
       "    </tr>\n",
       "    <tr>\n",
       "      <th>3</th>\n",
       "      <td>Tether</td>\n",
       "      <td>1.0007</td>\n",
       "    </tr>\n",
       "  </tbody>\n",
       "</table>\n",
       "</div>"
      ],
      "text/plain": [
       "   Criptomoneda      Precio\n",
       "0       Bitcoin  52465.5000\n",
       "1      Ethereum   1922.3300\n",
       "2  Binance Coin    273.5819\n",
       "4      Polkadot     33.5199\n",
       "3        Tether      1.0007"
      ]
     },
     "execution_count": 11,
     "metadata": {},
     "output_type": "execute_result"
    }
   ],
   "source": [
    "df"
   ]
  },
  {
   "cell_type": "code",
   "execution_count": 12,
   "metadata": {},
   "outputs": [],
   "source": [
    "import matplotlib.pyplot as plt\n",
    "plt.style.use('classic')"
   ]
  },
  {
   "cell_type": "code",
   "execution_count": 13,
   "metadata": {},
   "outputs": [
    {
     "data": {
      "text/plain": [
       "<AxesSubplot:xlabel='Criptomoneda'>"
      ]
     },
     "execution_count": 13,
     "metadata": {},
     "output_type": "execute_result"
    },
    {
     "data": {
      "image/png": "[encoded data removed]",
      "text/plain": [
       "<Figure size 640x480 with 1 Axes>"
      ]
     },
     "metadata": {},
     "output_type": "display_data"
    }
   ],
   "source": [
    "df.plot(kind='bar',x='Criptomoneda',y='Precio')"
   ]
  },
  {
   "cell_type": "markdown",
   "metadata": {},
   "source": [
    "   "
   ]
  },
  {
   "cell_type": "markdown",
   "metadata": {},
   "source": [
    "## Exportamos los datos en un CSV:"
   ]
  },
  {
   "cell_type": "code",
   "execution_count": 14,
   "metadata": {},
   "outputs": [],
   "source": [
    "df.to_csv(r'Criptomonedas.csv', index = False)"
   ]
  }
 ],
 "metadata": {
  "kernelspec": {
   "display_name": "Python 3",
   "language": "python",
   "name": "python3"
  },
  "language_info": {
   "codemirror_mode": {
    "name": "ipython",
    "version": 3
   },
   "file_extension": ".py",
   "mimetype": "text/x-python",
   "name": "python",
   "nbconvert_exporter": "python",
   "pygments_lexer": "ipython3",
   "version": "3.8.5"
  }
 },
 "nbformat": 4,
 "nbformat_minor": 4
}
